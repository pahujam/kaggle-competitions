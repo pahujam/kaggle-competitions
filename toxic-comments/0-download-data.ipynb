{
 "cells": [
  {
   "cell_type": "code",
   "execution_count": 2,
   "id": "63e41792-5fa8-4771-b3eb-141ab82b1bfd",
   "metadata": {},
   "outputs": [
    {
     "name": "stdout",
     "output_type": "stream",
     "text": [
      "Collecting kaggle\n",
      "  Using cached kaggle-1.5.12-py3-none-any.whl\n",
      "Requirement already satisfied: requests in /opt/conda/lib/python3.8/site-packages (from kaggle) (2.25.1)\n",
      "Requirement already satisfied: certifi in /opt/conda/lib/python3.8/site-packages (from kaggle) (2021.5.30)\n",
      "Requirement already satisfied: six>=1.10 in /opt/conda/lib/python3.8/site-packages (from kaggle) (1.16.0)\n",
      "Collecting python-slugify\n",
      "  Using cached python_slugify-5.0.2-py2.py3-none-any.whl (6.7 kB)\n",
      "Requirement already satisfied: urllib3 in /opt/conda/lib/python3.8/site-packages (from kaggle) (1.26.5)\n",
      "Requirement already satisfied: tqdm in /opt/conda/lib/python3.8/site-packages (from kaggle) (4.61.0)\n",
      "Requirement already satisfied: python-dateutil in /opt/conda/lib/python3.8/site-packages (from kaggle) (2.8.1)\n",
      "Collecting text-unidecode>=1.3\n",
      "  Using cached text_unidecode-1.3-py2.py3-none-any.whl (78 kB)\n",
      "Requirement already satisfied: chardet<5,>=3.0.2 in /opt/conda/lib/python3.8/site-packages (from requests->kaggle) (4.0.0)\n",
      "Requirement already satisfied: idna<3,>=2.5 in /opt/conda/lib/python3.8/site-packages (from requests->kaggle) (2.10)\n",
      "Installing collected packages: text-unidecode, python-slugify, kaggle\n",
      "Successfully installed kaggle-1.5.12 python-slugify-5.0.2 text-unidecode-1.3\n"
     ]
    }
   ],
   "source": [
    "!pip install kaggle"
   ]
  },
  {
   "cell_type": "code",
   "execution_count": 4,
   "id": "703371a8-e976-4480-894a-db127731a0a4",
   "metadata": {},
   "outputs": [],
   "source": [
    "import os\n",
    "os.environ[\"KAGGLE_USERNAME\"] = \"\"\n",
    "os.environ[\"KAGGLE_KEY\"] = \"\""
   ]
  },
  {
   "cell_type": "code",
   "execution_count": 5,
   "id": "dbe80ac1-e6be-4fff-a43c-c0e8ccfc815a",
   "metadata": {},
   "outputs": [
    {
     "name": "stdout",
     "output_type": "stream",
     "text": [
      "Downloading jigsaw-toxic-severity-rating.zip to /home/jovyan/kaggle-competitions/toxic-comments\n",
      " 74%|████████████████████████████▎         | 5.00M/6.72M [00:01<00:00, 4.03MB/s]\n",
      "100%|██████████████████████████████████████| 6.72M/6.72M [00:01<00:00, 5.40MB/s]\n"
     ]
    }
   ],
   "source": [
    "!kaggle competitions download -c jigsaw-toxic-severity-rating"
   ]
  },
  {
   "cell_type": "code",
   "execution_count": 6,
   "id": "d8e5a492-82f4-4f23-86d4-cec339f9f353",
   "metadata": {},
   "outputs": [
    {
     "name": "stdout",
     "output_type": "stream",
     "text": [
      "Archive:  jigsaw-toxic-severity-rating.zip\n",
      "  inflating: comments_to_score.csv   \n",
      "  inflating: sample_submission.csv   \n",
      "  inflating: validation_data.csv     \n"
     ]
    }
   ],
   "source": [
    "!unzip jigsaw-toxic-severity-rating.zip"
   ]
  },
  {
   "cell_type": "code",
   "execution_count": 7,
   "id": "a9eed1cd-972b-4671-881d-1445ab4c94b8",
   "metadata": {},
   "outputs": [],
   "source": [
    "!rm jigsaw-toxic-severity-rating.zip"
   ]
  },
  {
   "cell_type": "code",
   "execution_count": null,
   "id": "baa864bf-9758-4ac6-a239-8585638f807d",
   "metadata": {},
   "outputs": [],
   "source": []
  }
 ],
 "metadata": {
  "kernelspec": {
   "display_name": "Python 3",
   "language": "python",
   "name": "python3"
  },
  "language_info": {
   "codemirror_mode": {
    "name": "ipython",
    "version": 3
   },
   "file_extension": ".py",
   "mimetype": "text/x-python",
   "name": "python",
   "nbconvert_exporter": "python",
   "pygments_lexer": "ipython3",
   "version": "3.8.10"
  }
 },
 "nbformat": 4,
 "nbformat_minor": 5
}
