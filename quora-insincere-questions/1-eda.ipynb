{
 "cells": [
  {
   "cell_type": "code",
   "execution_count": 1,
   "id": "ba7ccad5",
   "metadata": {},
   "outputs": [],
   "source": [
    "import pandas as pd"
   ]
  },
  {
   "cell_type": "code",
   "execution_count": 2,
   "id": "0f8d3ec4",
   "metadata": {},
   "outputs": [],
   "source": [
    "train = pd.read_csv(\"data/train.csv\")\n",
    "test = pd.read_csv(\"data/test.csv\")"
   ]
  },
  {
   "cell_type": "code",
   "execution_count": 3,
   "id": "ff202260",
   "metadata": {},
   "outputs": [],
   "source": [
    "from tqdm import tqdm"
   ]
  },
  {
   "cell_type": "code",
   "execution_count": 4,
   "id": "886af5aa",
   "metadata": {},
   "outputs": [],
   "source": [
    "tqdm.pandas()"
   ]
  },
  {
   "cell_type": "code",
   "execution_count": 85,
   "id": "8345add9",
   "metadata": {},
   "outputs": [],
   "source": [
    "def build_vocab(sentences, verbose =  True):\n",
    "    \"\"\"\n",
    "    :param sentences: list of list of words\n",
    "    :return: dictionary of words and their count\n",
    "    \"\"\"\n",
    "    vocab = {}\n",
    "    for sentence in tqdm(sentences, disable = (not verbose)):\n",
    "        for word in sentence:\n",
    "            try:\n",
    "                vocab[word] += 1\n",
    "            except KeyError:\n",
    "                vocab[word] = 1\n",
    "    return vocab"
   ]
  },
  {
   "cell_type": "code",
   "execution_count": 86,
   "id": "0d90c1ff",
   "metadata": {},
   "outputs": [
    {
     "name": "stderr",
     "output_type": "stream",
     "text": [
      "100%|██████████| 1306122/1306122 [00:06<00:00, 207709.33it/s]\n"
     ]
    }
   ],
   "source": [
    "sentences = train[\"question_text\"].progress_apply(lambda x: x.split()).values"
   ]
  },
  {
   "cell_type": "code",
   "execution_count": 87,
   "id": "66868fff",
   "metadata": {},
   "outputs": [
    {
     "name": "stderr",
     "output_type": "stream",
     "text": [
      "100%|██████████| 1306122/1306122 [00:03<00:00, 391708.51it/s]\n"
     ]
    }
   ],
   "source": [
    "vocab = build_vocab(sentences)"
   ]
  },
  {
   "cell_type": "code",
   "execution_count": null,
   "id": "8c9df27d-be1e-4f49-8b63-fd07cb2891c6",
   "metadata": {},
   "outputs": [],
   "source": []
  },
  {
   "cell_type": "code",
   "execution_count": null,
   "id": "dc5a69ce-dc95-4a2a-a684-5f99848c357f",
   "metadata": {},
   "outputs": [],
   "source": []
  },
  {
   "cell_type": "code",
   "execution_count": null,
   "id": "660e7672-7c2c-49d5-8ace-80bf4aec9421",
   "metadata": {},
   "outputs": [],
   "source": []
  },
  {
   "cell_type": "code",
   "execution_count": 8,
   "id": "d43e8aa5",
   "metadata": {},
   "outputs": [],
   "source": [
    "from gensim.models import KeyedVectors"
   ]
  },
  {
   "cell_type": "code",
   "execution_count": 9,
   "id": "e911b531",
   "metadata": {},
   "outputs": [],
   "source": [
    "glove_path = 'data/glove.840B.300d/glove.840B.300d.txt'"
   ]
  },
  {
   "cell_type": "code",
   "execution_count": 21,
   "id": "8c7895ff",
   "metadata": {},
   "outputs": [],
   "source": [
    "from gensim.scripts.glove2word2vec import glove2word2vec"
   ]
  },
  {
   "cell_type": "code",
   "execution_count": 23,
   "id": "2fc1c09f",
   "metadata": {},
   "outputs": [],
   "source": [
    "# glove2word2vec(glove_path,\"data/glove_word2vec_format.txt\")"
   ]
  },
  {
   "cell_type": "code",
   "execution_count": 6,
   "id": "6cc2fbbe",
   "metadata": {
    "collapsed": true,
    "jupyter": {
     "outputs_hidden": true
    },
    "tags": []
   },
   "outputs": [
    {
     "name": "stdout",
     "output_type": "stream",
     "text": [
      "Collecting gensim\n",
      "  Downloading gensim-4.1.2-cp38-cp38-manylinux_2_12_x86_64.manylinux2010_x86_64.whl (24.1 MB)\n",
      "\u001b[K     |████████████████████████████████| 24.1 MB 3.6 MB/s eta 0:00:01\n",
      "\u001b[?25hRequirement already satisfied: numpy>=1.17.0 in /opt/conda/lib/python3.8/site-packages (from gensim) (1.20.3)\n",
      "Requirement already satisfied: scipy>=0.18.1 in /opt/conda/lib/python3.8/site-packages (from gensim) (1.7.0)\n",
      "Requirement already satisfied: smart-open>=1.8.1 in /opt/conda/lib/python3.8/site-packages (from gensim) (5.2.1)\n",
      "Installing collected packages: gensim\n",
      "Successfully installed gensim-4.1.2\n"
     ]
    },
    {
     "name": "stderr",
     "output_type": "stream",
     "text": [
      "/opt/conda/lib/python3.8/site-packages/azure/storage/blob/_deserialization.py:641: SyntaxWarning: \"is\" with a literal. Did you mean \"==\"?\n",
      "  elif num_empty_lines is 2:\n",
      "/opt/conda/lib/python3.8/site-packages/azure/storage/blob/_serialization.py:189: SyntaxWarning: \"is\" with a literal. Did you mean \"==\"?\n",
      "  if requests is None or len(requests) is 0:\n",
      "/opt/conda/lib/python3.8/site-packages/azure/storage/blob/_serialization.py:301: SyntaxWarning: \"is not\" with a literal. Did you mean \"!=\"?\n",
      "  if len(serialized_query) is not 0:\n",
      "/opt/conda/lib/python3.8/site-packages/azure/storage/blob/_upload_chunking.py:409: SyntaxWarning: \"is\" with a literal. Did you mean \"==\"?\n",
      "  if n is 0 or self._buffer.closed:\n",
      "/opt/conda/lib/python3.8/site-packages/azure/storage/blob/baseblobservice.py:1071: SyntaxWarning: \"is not\" with a literal. Did you mean \"!=\"?\n",
      "  if lease_duration is not -1 and \\\n",
      "/opt/conda/lib/python3.8/site-packages/azure/storage/blob/baseblobservice.py:2779: SyntaxWarning: \"is not\" with a literal. Did you mean \"!=\"?\n",
      "  if lease_duration is not -1 and \\\n",
      "/opt/conda/lib/python3.8/site-packages/azure/storage/common/_connection.py:82: SyntaxWarning: \"is\" with a literal. Did you mean \"==\"?\n",
      "  self.protocol = self.protocol if parsed_url.scheme is '' else parsed_url.scheme\n",
      "/opt/conda/lib/python3.8/site-packages/azure/storage/blob/blockblobservice.py:608: SyntaxWarning: \"is not\" with a literal. Did you mean \"!=\"?\n",
      "  while len(data) < count and len(data_chunk) is not 0:\n"
     ]
    }
   ],
   "source": [
    "!pip install gensim\n",
    "import gensim"
   ]
  },
  {
   "cell_type": "code",
   "execution_count": 8,
   "id": "6b7dec92-64d5-4ab9-9606-29f2a130e1bb",
   "metadata": {},
   "outputs": [],
   "source": [
    "from gensim.models import KeyedVectors"
   ]
  },
  {
   "cell_type": "code",
   "execution_count": 13,
   "id": "de91f350",
   "metadata": {},
   "outputs": [],
   "source": [
    "glove_vectors = KeyedVectors.load_word2vec_format(\"data/glove_word2vec_format.txt\",binary=False,no_header=False)"
   ]
  },
  {
   "cell_type": "code",
   "execution_count": 84,
   "id": "c7947962",
   "metadata": {},
   "outputs": [
    {
     "data": {
      "text/plain": [
       "[('caused', 0.7013909220695496),\n",
       " ('owing', 0.6679489612579346),\n",
       " ('result', 0.6542508006095886),\n",
       " ('despite', 0.6377608776092529),\n",
       " ('affected', 0.6364753842353821),\n",
       " ('cause', 0.6272486448287964),\n",
       " ('because', 0.6262850165367126),\n",
       " ('severe', 0.6229299306869507),\n",
       " ('causing', 0.6226324439048767),\n",
       " ('likely', 0.6223006844520569),\n",
       " ('lack', 0.621307909488678),\n",
       " ('resulting', 0.6160615086555481),\n",
       " ('Due', 0.6126062273979187),\n",
       " ('occur', 0.6097978949546814),\n",
       " ('delayed', 0.6067006587982178),\n",
       " ('however', 0.6018208861351013),\n",
       " ('significant', 0.6002013087272644),\n",
       " ('after', 0.5976076722145081),\n",
       " ('problems', 0.5904189348220825),\n",
       " ('reduced', 0.5902970433235168)]"
      ]
     },
     "execution_count": 84,
     "metadata": {},
     "output_type": "execute_result"
    }
   ],
   "source": [
    "glove_vectors.most_similar(\"due\",topn=20)"
   ]
  },
  {
   "cell_type": "code",
   "execution_count": 88,
   "id": "bc447c8f",
   "metadata": {},
   "outputs": [],
   "source": [
    "import operator \n",
    "\n",
    "def check_coverage(vocab,embeddings_index):\n",
    "    a = {}\n",
    "    oov = {}\n",
    "    k = 0\n",
    "    i = 0\n",
    "    for word in tqdm(vocab):\n",
    "        try:\n",
    "            a[word] = embeddings_index[word]\n",
    "            k += vocab[word]\n",
    "        except:\n",
    "\n",
    "            oov[word] = vocab[word]\n",
    "            i += vocab[word]\n",
    "            pass\n",
    "\n",
    "    print('Found embeddings for {:.2%} of vocab'.format(len(a) / len(vocab)))\n",
    "    print('Found embeddings for  {:.2%} of all text'.format(k / (k + i)))\n",
    "    sorted_x = sorted(oov.items(), key=operator.itemgetter(1))[::-1]\n",
    "\n",
    "    return sorted_x"
   ]
  },
  {
   "cell_type": "code",
   "execution_count": 90,
   "id": "b0c5a69e",
   "metadata": {},
   "outputs": [
    {
     "name": "stderr",
     "output_type": "stream",
     "text": [
      "100%|██████████| 508823/508823 [00:00<00:00, 539226.27it/s]"
     ]
    },
    {
     "name": "stdout",
     "output_type": "stream",
     "text": [
      "Found embeddings for 33.16% of vocab\n",
      "Found embeddings for  88.16% of all text\n"
     ]
    },
    {
     "name": "stderr",
     "output_type": "stream",
     "text": [
      "\n"
     ]
    }
   ],
   "source": [
    "oov = check_coverage(vocab,glove_vectors)"
   ]
  },
  {
   "cell_type": "code",
   "execution_count": 92,
   "id": "5e7789a6-734f-438c-a406-dbc41ad835ca",
   "metadata": {},
   "outputs": [],
   "source": [
    "def clean_text(x):\n",
    "\n",
    "    x = str(x)\n",
    "    for punct in \"/-'\":\n",
    "        x = x.replace(punct, ' ')\n",
    "    for punct in '&':\n",
    "        x = x.replace(punct, f' {punct} ')\n",
    "    for punct in '?!.,\"#$%\\'()*+-/:;<=>@[\\\\]^_`{|}~' + '“”’':\n",
    "        x = x.replace(punct, '')\n",
    "    return x"
   ]
  },
  {
   "cell_type": "code",
   "execution_count": 93,
   "id": "b088666b-8be2-4bd9-9939-9d97838151f0",
   "metadata": {},
   "outputs": [
    {
     "name": "stderr",
     "output_type": "stream",
     "text": [
      "100%|██████████| 1306122/1306122 [00:06<00:00, 203906.13it/s]\n",
      "100%|██████████| 1306122/1306122 [00:03<00:00, 421032.82it/s]\n"
     ]
    }
   ],
   "source": [
    "train[\"question_text\"] = train[\"question_text\"].progress_apply(lambda x: clean_text(x))\n",
    "sentences = train[\"question_text\"].apply(lambda x: x.split())\n",
    "vocab = build_vocab(sentences)"
   ]
  },
  {
   "cell_type": "code",
   "execution_count": 94,
   "id": "b75ccc3c-18e8-4197-ab53-f9def2e78479",
   "metadata": {},
   "outputs": [
    {
     "name": "stderr",
     "output_type": "stream",
     "text": [
      "100%|██████████| 253623/253623 [00:00<00:00, 513828.75it/s]"
     ]
    },
    {
     "name": "stdout",
     "output_type": "stream",
     "text": [
      "Found embeddings for 71.38% of vocab\n",
      "Found embeddings for  99.44% of all text\n"
     ]
    },
    {
     "name": "stderr",
     "output_type": "stream",
     "text": [
      "\n"
     ]
    }
   ],
   "source": [
    "oov = check_coverage(vocab,glove_vectors)"
   ]
  },
  {
   "cell_type": "code",
   "execution_count": 97,
   "id": "e4a0b184-7e96-4b03-bee4-d0c6fe9220e6",
   "metadata": {},
   "outputs": [
    {
     "data": {
      "text/plain": [
       "253623"
      ]
     },
     "execution_count": 97,
     "metadata": {},
     "output_type": "execute_result"
    }
   ],
   "source": [
    "len(vocab)"
   ]
  },
  {
   "cell_type": "code",
   "execution_count": null,
   "id": "91e939ed-a7f3-441d-8639-8d1f474101ee",
   "metadata": {},
   "outputs": [],
   "source": []
  },
  {
   "cell_type": "code",
   "execution_count": null,
   "id": "bc01fdc8-08a3-462d-9ad1-9a34948d2f3e",
   "metadata": {},
   "outputs": [],
   "source": []
  }
 ],
 "metadata": {
  "kernelspec": {
   "display_name": "Python 3",
   "language": "python",
   "name": "python3"
  },
  "language_info": {
   "codemirror_mode": {
    "name": "ipython",
    "version": 3
   },
   "file_extension": ".py",
   "mimetype": "text/x-python",
   "name": "python",
   "nbconvert_exporter": "python",
   "pygments_lexer": "ipython3",
   "version": "3.8.10"
  }
 },
 "nbformat": 4,
 "nbformat_minor": 5
}
