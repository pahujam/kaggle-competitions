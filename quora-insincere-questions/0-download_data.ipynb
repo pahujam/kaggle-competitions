{
 "cells": [
  {
   "cell_type": "code",
   "execution_count": 1,
   "metadata": {},
   "outputs": [
    {
     "name": "stdout",
     "output_type": "stream",
     "text": [
      "/bin/bash: kaggle: command not found\n"
     ]
    }
   ],
   "source": [
    "!pip install kaggle"
   ]
  },
  {
   "cell_type": "code",
   "execution_count": 14,
   "metadata": {},
   "outputs": [],
   "source": [
    "import os\n",
    "os.environ[\"KAGGLE_USERNAME\"] = \"<your_kaggle_username>\"\n",
    "os.environ[\"KAGGLE_KEY\"] = \"<your_kaggle_private_key>\""
   ]
  },
  {
   "cell_type": "code",
   "execution_count": 18,
   "metadata": {},
   "outputs": [
    {
     "name": "stdout",
     "output_type": "stream",
     "text": [
      "Downloading quora-insincere-questions-classification.zip to /home/jovyan/kaggle-competitions\n",
      "100%|█████████████████████████████████████▉| 6.02G/6.03G [03:22<00:00, 31.1MB/s]\n",
      "100%|██████████████████████████████████████| 6.03G/6.03G [03:22<00:00, 31.9MB/s]\n"
     ]
    }
   ],
   "source": [
    "!kaggle competitions download -c quora-insincere-questions-classification"
   ]
  },
  {
   "cell_type": "code",
   "execution_count": 19,
   "metadata": {},
   "outputs": [],
   "source": [
    "!mv quora-insincere-questions-classification.zip data/"
   ]
  },
  {
   "cell_type": "code",
   "execution_count": 22,
   "metadata": {},
   "outputs": [
    {
     "name": "stdout",
     "output_type": "stream",
     "text": [
      "Archive:  data/quora-insincere-questions-classification.zip\n",
      "  inflating: embeddings.zip          \n",
      "  inflating: sample_submission.csv   \n",
      "  inflating: test.csv                \n",
      "  inflating: train.csv               \n"
     ]
    }
   ],
   "source": [
    "!apt install unzip\n",
    "!unzip data/quora-insincere-questions-classification.zip"
   ]
  },
  {
   "cell_type": "code",
   "execution_count": 23,
   "metadata": {},
   "outputs": [
    {
     "name": "stdout",
     "output_type": "stream",
     "text": [
      "Archive:  embeddings.zip\n",
      "   creating: GoogleNews-vectors-negative300/\n",
      "   creating: glove.840B.300d/\n",
      "   creating: paragram_300_sl999/\n",
      "   creating: wiki-news-300d-1M/\n",
      "  inflating: glove.840B.300d/glove.840B.300d.txt  \n",
      "  inflating: GoogleNews-vectors-negative300/GoogleNews-vectors-negative300.bin  \n",
      "  inflating: wiki-news-300d-1M/wiki-news-300d-1M.vec  \n",
      "  inflating: paragram_300_sl999/README.txt  \n",
      "  inflating: paragram_300_sl999/paragram_300_sl999.txt  \n"
     ]
    }
   ],
   "source": [
    "!unzip embeddings.zip"
   ]
  },
  {
   "cell_type": "code",
   "execution_count": null,
   "metadata": {},
   "outputs": [],
   "source": []
  }
 ],
 "metadata": {
  "kernelspec": {
   "display_name": "Python 3",
   "language": "python",
   "name": "python3"
  },
  "language_info": {
   "codemirror_mode": {
    "name": "ipython",
    "version": 3
   },
   "file_extension": ".py",
   "mimetype": "text/x-python",
   "name": "python",
   "nbconvert_exporter": "python",
   "pygments_lexer": "ipython3",
   "version": "3.7.9"
  }
 },
 "nbformat": 4,
 "nbformat_minor": 5
}
