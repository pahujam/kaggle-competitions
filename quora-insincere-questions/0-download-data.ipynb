{
 "cells": [
  {
   "cell_type": "code",
   "execution_count": 1,
   "id": "31bab955",
   "metadata": {},
   "outputs": [
    {
     "name": "stdout",
     "output_type": "stream",
     "text": [
      "/bin/bash: kaggle: command not found\n"
     ]
    }
   ],
   "source": [
    "# install kaggle and unzip\n",
    "!pip install kaggle\n",
    "!apt install unzip"
   ]
  },
  {
   "cell_type": "code",
   "execution_count": 14,
   "id": "fc30200b",
   "metadata": {},
   "outputs": [],
   "source": [
    "# authenticate kaggle\n",
    "import os\n",
    "os.environ[\"KAGGLE_USERNAME\"] = \"<your_kaggle_username>\"\n",
    "os.environ[\"KAGGLE_KEY\"] = \"<your_kaggle_private_key>\""
   ]
  },
  {
   "cell_type": "code",
   "execution_count": 18,
   "id": "c6bc10c0",
   "metadata": {},
   "outputs": [
    {
     "name": "stdout",
     "output_type": "stream",
     "text": [
      "Downloading quora-insincere-questions-classification.zip to /home/jovyan/kaggle-competitions\n",
      "100%|█████████████████████████████████████▉| 6.02G/6.03G [03:22<00:00, 31.1MB/s]\n",
      "100%|██████████████████████████████████████| 6.03G/6.03G [03:22<00:00, 31.9MB/s]\n"
     ]
    }
   ],
   "source": [
    "# download data for the project\n",
    "!kaggle competitions download -c quora-insincere-questions-classification"
   ]
  },
  {
   "cell_type": "code",
   "execution_count": null,
   "id": "eb5074d6",
   "metadata": {},
   "outputs": [],
   "source": [
    "# unzip data and remove unneeded files\n",
    "!unzip quora-insincere-questions-classification.zip\n",
    "!rm -rf embeddings.zip quora-insincere-questions-classification.zip"
   ]
  },
  {
   "cell_type": "code",
   "execution_count": null,
   "id": "1ecfb3bd",
   "metadata": {},
   "outputs": [],
   "source": [
    "# move training files to data directory\n",
    "!mv *.csv data/"
   ]
  },
  {
   "cell_type": "code",
   "execution_count": null,
   "id": "f37eadf1",
   "metadata": {},
   "outputs": [],
   "source": []
  }
 ],
 "metadata": {
  "kernelspec": {
   "display_name": "Python 3",
   "language": "python",
   "name": "python3"
  },
  "language_info": {
   "codemirror_mode": {
    "name": "ipython",
    "version": 3
   },
   "file_extension": ".py",
   "mimetype": "text/x-python",
   "name": "python",
   "nbconvert_exporter": "python",
   "pygments_lexer": "ipython3",
   "version": "3.8.10"
  }
 },
 "nbformat": 4,
 "nbformat_minor": 5
}
