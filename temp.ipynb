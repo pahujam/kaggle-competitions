{
 "cells": [
  {
   "cell_type": "code",
   "execution_count": 7,
   "id": "ac79aae0-58f6-4e84-97d6-97f5be6551fc",
   "metadata": {},
   "outputs": [],
   "source": [
    "import pandas as pd\n",
    "pd.set_option('display.max_colwidth', None)"
   ]
  },
  {
   "cell_type": "code",
   "execution_count": 10,
   "id": "495e0995-aa2e-47ab-9317-7c1364651fd2",
   "metadata": {},
   "outputs": [],
   "source": [
    "df = pd.read_csv(\"train.csv\").drop(\"qid\",axis=1)"
   ]
  },
  {
   "cell_type": "code",
   "execution_count": 34,
   "id": "4b38098a-a6da-4226-b231-cc061e67141a",
   "metadata": {},
   "outputs": [
    {
     "data": {
      "text/html": [
       "<div>\n",
       "<style scoped>\n",
       "    .dataframe tbody tr th:only-of-type {\n",
       "        vertical-align: middle;\n",
       "    }\n",
       "\n",
       "    .dataframe tbody tr th {\n",
       "        vertical-align: top;\n",
       "    }\n",
       "\n",
       "    .dataframe thead th {\n",
       "        text-align: right;\n",
       "    }\n",
       "</style>\n",
       "<table border=\"1\" class=\"dataframe\">\n",
       "  <thead>\n",
       "    <tr style=\"text-align: right;\">\n",
       "      <th></th>\n",
       "      <th>question_text</th>\n",
       "      <th>target</th>\n",
       "    </tr>\n",
       "  </thead>\n",
       "  <tbody>\n",
       "    <tr>\n",
       "      <th>833216</th>\n",
       "      <td>Why are some people gay? Doesn't the brain make you like the opposite gender?</td>\n",
       "      <td>1</td>\n",
       "    </tr>\n",
       "    <tr>\n",
       "      <th>903373</th>\n",
       "      <td>Why should I believe any of these emphatic, data driven, intellectually presented (with citations) predictions on the future of Bitcoin offered by Quorans? Especially when you failed me spectacularly on November 8th, 2016.</td>\n",
       "      <td>1</td>\n",
       "    </tr>\n",
       "    <tr>\n",
       "      <th>23448</th>\n",
       "      <td>Why are Hindus generally weaker physically than others?</td>\n",
       "      <td>1</td>\n",
       "    </tr>\n",
       "    <tr>\n",
       "      <th>1020179</th>\n",
       "      <td>How difficult would it be to pick up a married Indian woman in the Southern USA?</td>\n",
       "      <td>1</td>\n",
       "    </tr>\n",
       "    <tr>\n",
       "      <th>626033</th>\n",
       "      <td>Referring to her character and integrity, do all women turn out to be like their mothers (like lying to their partner, bad habits, moody, independent, drinking alcohol, etc.)?</td>\n",
       "      <td>1</td>\n",
       "    </tr>\n",
       "  </tbody>\n",
       "</table>\n",
       "</div>"
      ],
      "text/plain": [
       "                                                                                                                                                                                                                          question_text  \\\n",
       "833216                                                                                                                                                    Why are some people gay? Doesn't the brain make you like the opposite gender?   \n",
       "903373   Why should I believe any of these emphatic, data driven, intellectually presented (with citations) predictions on the future of Bitcoin offered by Quorans? Especially when you failed me spectacularly on November 8th, 2016.   \n",
       "23448                                                                                                                                                                           Why are Hindus generally weaker physically than others?   \n",
       "1020179                                                                                                                                                How difficult would it be to pick up a married Indian woman in the Southern USA?   \n",
       "626033                                                  Referring to her character and integrity, do all women turn out to be like their mothers (like lying to their partner, bad habits, moody, independent, drinking alcohol, etc.)?   \n",
       "\n",
       "         target  \n",
       "833216        1  \n",
       "903373        1  \n",
       "23448         1  \n",
       "1020179       1  \n",
       "626033        1  "
      ]
     },
     "execution_count": 34,
     "metadata": {},
     "output_type": "execute_result"
    }
   ],
   "source": [
    "df[df['target']==1].sample(5)"
   ]
  },
  {
   "cell_type": "code",
   "execution_count": 31,
   "id": "25b532b0-cee9-4fa8-9c54-854234a9aee2",
   "metadata": {},
   "outputs": [
    {
     "data": {
      "text/html": [
       "<div>\n",
       "<style scoped>\n",
       "    .dataframe tbody tr th:only-of-type {\n",
       "        vertical-align: middle;\n",
       "    }\n",
       "\n",
       "    .dataframe tbody tr th {\n",
       "        vertical-align: top;\n",
       "    }\n",
       "\n",
       "    .dataframe thead th {\n",
       "        text-align: right;\n",
       "    }\n",
       "</style>\n",
       "<table border=\"1\" class=\"dataframe\">\n",
       "  <thead>\n",
       "    <tr style=\"text-align: right;\">\n",
       "      <th></th>\n",
       "      <th>question_text</th>\n",
       "      <th>target</th>\n",
       "    </tr>\n",
       "  </thead>\n",
       "  <tbody>\n",
       "    <tr>\n",
       "      <th>1287983</th>\n",
       "      <td>Do developers use frameworks for desktop applications?</td>\n",
       "      <td>0</td>\n",
       "    </tr>\n",
       "    <tr>\n",
       "      <th>323914</th>\n",
       "      <td>how many white blood cells are there in a human body?</td>\n",
       "      <td>0</td>\n",
       "    </tr>\n",
       "    <tr>\n",
       "      <th>1260431</th>\n",
       "      <td>Which gender is better to play as in Fallout 3 Male or Female?</td>\n",
       "      <td>0</td>\n",
       "    </tr>\n",
       "    <tr>\n",
       "      <th>1287333</th>\n",
       "      <td>How do nations gain land through arranged marriages?</td>\n",
       "      <td>0</td>\n",
       "    </tr>\n",
       "    <tr>\n",
       "      <th>1201952</th>\n",
       "      <td>How a current transformer work?</td>\n",
       "      <td>0</td>\n",
       "    </tr>\n",
       "  </tbody>\n",
       "</table>\n",
       "</div>"
      ],
      "text/plain": [
       "                                                          question_text  \\\n",
       "1287983          Do developers use frameworks for desktop applications?   \n",
       "323914            how many white blood cells are there in a human body?   \n",
       "1260431  Which gender is better to play as in Fallout 3 Male or Female?   \n",
       "1287333            How do nations gain land through arranged marriages?   \n",
       "1201952                                 How a current transformer work?   \n",
       "\n",
       "         target  \n",
       "1287983       0  \n",
       "323914        0  \n",
       "1260431       0  \n",
       "1287333       0  \n",
       "1201952       0  "
      ]
     },
     "execution_count": 31,
     "metadata": {},
     "output_type": "execute_result"
    }
   ],
   "source": [
    "df[df['target']==0].sample(5)"
   ]
  },
  {
   "cell_type": "code",
   "execution_count": 36,
   "id": "c6f651d8-7312-4e2e-b964-579c3641882f",
   "metadata": {},
   "outputs": [
    {
     "data": {
      "text/plain": [
       "0    0.93813\n",
       "1    0.06187\n",
       "Name: target, dtype: float64"
      ]
     },
     "execution_count": 36,
     "metadata": {},
     "output_type": "execute_result"
    }
   ],
   "source": [
    "df['target'].value_counts()/len(df['target'])"
   ]
  },
  {
   "cell_type": "code",
   "execution_count": null,
   "id": "9b881961-5eb4-4d76-8652-62bbb122f181",
   "metadata": {},
   "outputs": [],
   "source": [
    "df"
   ]
  },
  {
   "cell_type": "code",
   "execution_count": null,
   "id": "2376ad3d-b25d-4846-8d89-eabc9626e121",
   "metadata": {},
   "outputs": [],
   "source": []
  }
 ],
 "metadata": {
  "kernelspec": {
   "display_name": "Python 3 (ipykernel)",
   "language": "python",
   "name": "python3"
  },
  "language_info": {
   "codemirror_mode": {
    "name": "ipython",
    "version": 3
   },
   "file_extension": ".py",
   "mimetype": "text/x-python",
   "name": "python",
   "nbconvert_exporter": "python",
   "pygments_lexer": "ipython3",
   "version": "3.8.9"
  }
 },
 "nbformat": 4,
 "nbformat_minor": 5
}
